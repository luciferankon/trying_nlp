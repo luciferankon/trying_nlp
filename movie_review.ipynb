{
 "cells": [
  {
   "cell_type": "code",
   "execution_count": 123,
   "id": "initial_id",
   "metadata": {
    "collapsed": true,
    "ExecuteTime": {
     "end_time": "2023-10-10T04:58:17.355294Z",
     "start_time": "2023-10-10T04:58:12.116308Z"
    }
   },
   "outputs": [
    {
     "name": "stderr",
     "output_type": "stream",
     "text": [
      "[nltk_data] Downloading package movie_reviews to\n",
      "[nltk_data]     /Users/achakraborty/nltk_data...\n",
      "[nltk_data]   Package movie_reviews is already up-to-date!\n"
     ]
    }
   ],
   "source": [
    "import nltk\n",
    "from nltk.corpus import movie_reviews\n",
    "from nltk.tokenize import word_tokenize\n",
    "from nltk.corpus import stopwords\n",
    "from nltk.stem import WordNetLemmatizer\n",
    "from sklearn.model_selection import train_test_split\n",
    "from keras.preprocessing.text import Tokenizer\n",
    "from keras.preprocessing.sequence import pad_sequences\n",
    "from keras.models import Sequential\n",
    "from keras.layers import Embedding, LSTM, Dense\n",
    "from keras.utils import to_categorical\n",
    "\n",
    "# Download the IMDb movie reviews dataset from NLTK\n",
    "nltk.download('movie_reviews')\n",
    "\n",
    "# Prepare the movie reviews dataset\n",
    "documents = [(list(movie_reviews.words(fileid)), category)\n",
    "             for category in movie_reviews.categories()\n",
    "             for fileid in movie_reviews.fileids(category)]\n",
    "\n",
    "# Shuffle the documents\n",
    "import random\n",
    "random.shuffle(documents)\n",
    "\n",
    "# Preprocess the movie reviews data\n",
    "stop_words = set(stopwords.words('english'))\n",
    "lemmatizer = WordNetLemmatizer()\n",
    "\n",
    "def preprocess_text(words):\n",
    "    words = [lemmatizer.lemmatize(word.lower()) for word in words if word.isalpha() and word not in stop_words]\n",
    "    return ' '.join(words)\n",
    "\n",
    "# Prepare features and labels\n",
    "X = [preprocess_text(words) for words, category in documents]\n",
    "y = [category for words, category in documents]\n",
    "\n",
    "# Tokenize the text and convert labels to numerical values\n",
    "tokenizer = Tokenizer()\n",
    "tokenizer.fit_on_texts(X)\n",
    "vocab_size = len(tokenizer.word_index) + 1\n",
    "encoded_texts = tokenizer.texts_to_sequences(X)\n",
    "\n",
    "label_categories = list(set(y))\n",
    "label_encoder = {label: index for index, label in enumerate(label_categories)}\n",
    "encoded_labels = [label_encoder[label] for label in y]\n",
    "encoded_labels = to_categorical(encoded_labels)\n",
    "\n",
    "# Pad sequences for equal input length\n",
    "max_length = 200  # you can adjust this based on your dataset and input length\n",
    "padded_texts = pad_sequences(encoded_texts, maxlen=max_length, padding='post')\n",
    "\n",
    "# Split the data into training and testing sets\n",
    "X_train, X_test, y_train, y_test = train_test_split(padded_texts, encoded_labels, test_size=0.2, random_state=42)\n",
    "\n",
    "# Build the LSTM model\n",
    "embedding_dim = 50  # dimension of word embeddings\n",
    "model = Sequential()\n",
    "model.add(Embedding(input_dim=vocab_size, output_dim=embedding_dim, input_length=max_length))\n",
    "model.add(LSTM(units=100))\n",
    "model.add(Dense(units=len(label_categories), activation='softmax'))\n",
    "\n",
    "\n"
   ]
  },
  {
   "cell_type": "code",
   "execution_count": 124,
   "outputs": [
    {
     "name": "stdout",
     "output_type": "stream",
     "text": [
      "Epoch 1/5\n",
      "50/50 [==============================] - 6s 101ms/step - loss: 0.6919 - accuracy: 0.5394 - val_loss: 0.6787 - val_accuracy: 0.6325\n",
      "Epoch 2/5\n",
      "50/50 [==============================] - 5s 103ms/step - loss: 0.6316 - accuracy: 0.7681 - val_loss: 0.5937 - val_accuracy: 0.6925\n",
      "Epoch 3/5\n",
      "50/50 [==============================] - 5s 102ms/step - loss: 0.2375 - accuracy: 0.9013 - val_loss: 0.4899 - val_accuracy: 0.7475\n",
      "Epoch 4/5\n",
      "50/50 [==============================] - 5s 108ms/step - loss: 0.0581 - accuracy: 0.9812 - val_loss: 0.5114 - val_accuracy: 0.8150\n",
      "Epoch 5/5\n",
      "50/50 [==============================] - 5s 103ms/step - loss: 0.0269 - accuracy: 0.9956 - val_loss: 0.6935 - val_accuracy: 0.8100\n"
     ]
    },
    {
     "data": {
      "text/plain": "<keras.src.callbacks.History at 0x2a7e73940>"
     },
     "execution_count": 124,
     "metadata": {},
     "output_type": "execute_result"
    }
   ],
   "source": [
    "from keras.metrics import Precision, AUC\n",
    "# Compile the model\n",
    "model.compile(loss='categorical_crossentropy', optimizer='adam', metrics=['accuracy'])\n",
    "\n",
    "# Train the model\n",
    "num_epochs = 5\n",
    "batch_size = 32\n",
    "model.fit(X_train, y_train, epochs=num_epochs, batch_size=batch_size, validation_data=(X_test, y_test))"
   ],
   "metadata": {
    "collapsed": false,
    "ExecuteTime": {
     "end_time": "2023-10-10T04:58:45.782906Z",
     "start_time": "2023-10-10T04:58:19.400628Z"
    }
   },
   "id": "b37deb90ed650259"
  },
  {
   "cell_type": "code",
   "execution_count": null,
   "outputs": [],
   "source": [
    "enumerate(label_categories)"
   ],
   "metadata": {
    "collapsed": false,
    "ExecuteTime": {
     "start_time": "2023-10-10T04:58:09.866132Z"
    }
   },
   "id": "805f7afcbf678519"
  },
  {
   "cell_type": "code",
   "execution_count": null,
   "outputs": [],
   "source": [
    "label_encoder = {label: index for index, label in label_categories}"
   ],
   "metadata": {
    "collapsed": false,
    "ExecuteTime": {
     "end_time": "2023-10-10T04:58:09.870060Z",
     "start_time": "2023-10-10T04:58:09.869924Z"
    }
   },
   "id": "cb090eee574fd411"
  },
  {
   "cell_type": "code",
   "execution_count": null,
   "outputs": [],
   "source": [
    "encoded_labels = [label_encoder[label] for label in y]"
   ],
   "metadata": {
    "collapsed": false,
    "ExecuteTime": {
     "start_time": "2023-10-10T04:58:09.870047Z"
    }
   },
   "id": "a7d591e1a555ebdf"
  },
  {
   "cell_type": "code",
   "execution_count": null,
   "outputs": [],
   "source": [
    "encoded_labels = to_categorical(encoded_labels)\n",
    "encoded_labels"
   ],
   "metadata": {
    "collapsed": false,
    "ExecuteTime": {
     "end_time": "2023-10-10T04:58:09.871564Z",
     "start_time": "2023-10-10T04:58:09.871511Z"
    }
   },
   "id": "684778a56a5d86f9"
  },
  {
   "cell_type": "code",
   "execution_count": null,
   "outputs": [],
   "source": [
    "model.predict(\"I hate it\")"
   ],
   "metadata": {
    "collapsed": false,
    "ExecuteTime": {
     "start_time": "2023-10-10T04:58:09.873178Z"
    }
   },
   "id": "d064317644e9c290"
  },
  {
   "cell_type": "code",
   "execution_count": 134,
   "outputs": [
    {
     "name": "stdout",
     "output_type": "stream",
     "text": [
      "1/1 [==============================] - 0s 20ms/step\n"
     ]
    },
    {
     "data": {
      "text/plain": "array([[0.99777657, 0.00222339]], dtype=float32)"
     },
     "execution_count": 134,
     "metadata": {},
     "output_type": "execute_result"
    }
   ],
   "source": [
    "import numpy as np\n",
    "\n",
    "\n",
    "preprocessed_text = preprocess_text(\"\".join(documents[1][0]))\n",
    "input_sequences = tokenizer.texts_to_sequences([preprocessed_text])\n",
    "\n",
    "input_sequences_padded = pad_sequences(input_sequences, maxlen=max_length, padding='post')\n",
    "\n",
    "prediction = model.predict(input_sequences_padded)\n",
    "index = np.argmax(prediction) if np.max(prediction) > 0.8 else np.argmin(prediction)\n",
    "predicted_sentiment_label = label_categories[index]\n",
    "\n",
    "prediction"
   ],
   "metadata": {
    "collapsed": false,
    "ExecuteTime": {
     "end_time": "2023-10-10T05:58:30.016579Z",
     "start_time": "2023-10-10T05:58:29.946549Z"
    }
   },
   "id": "d3f9976d39b63228"
  },
  {
   "cell_type": "code",
   "execution_count": null,
   "outputs": [],
   "source": [],
   "metadata": {
    "collapsed": false,
    "ExecuteTime": {
     "start_time": "2023-10-10T04:58:09.876790Z"
    }
   },
   "id": "41ac9d6d52ba84f0"
  },
  {
   "cell_type": "code",
   "execution_count": null,
   "outputs": [],
   "source": [
    "predicted_sentiment_label"
   ],
   "metadata": {
    "collapsed": false,
    "ExecuteTime": {
     "start_time": "2023-10-10T04:58:09.878388Z"
    }
   },
   "id": "d5b6604cbae796c9"
  },
  {
   "cell_type": "code",
   "execution_count": null,
   "outputs": [],
   "source": [
    "movie_reviews"
   ],
   "metadata": {
    "collapsed": false,
    "ExecuteTime": {
     "start_time": "2023-10-10T04:58:09.880410Z"
    }
   },
   "id": "3937c8bf99449bd8"
  },
  {
   "cell_type": "code",
   "execution_count": null,
   "outputs": [],
   "source": [
    "documents"
   ],
   "metadata": {
    "collapsed": false,
    "ExecuteTime": {
     "start_time": "2023-10-10T04:58:09.882115Z"
    }
   },
   "id": "3ecf8f37f7c9bd11"
  },
  {
   "cell_type": "code",
   "execution_count": null,
   "outputs": [],
   "source": [
    "len(documents)"
   ],
   "metadata": {
    "collapsed": false,
    "ExecuteTime": {
     "end_time": "2023-10-10T04:58:09.885363Z",
     "start_time": "2023-10-10T04:58:09.883352Z"
    }
   },
   "id": "ca1c091e61f07970"
  },
  {
   "cell_type": "code",
   "execution_count": null,
   "outputs": [],
   "source": [
    "movie_reviews.categories()"
   ],
   "metadata": {
    "collapsed": false,
    "ExecuteTime": {
     "start_time": "2023-10-10T04:58:09.884366Z"
    }
   },
   "id": "469c9121ebca0c48"
  },
  {
   "cell_type": "code",
   "execution_count": null,
   "outputs": [],
   "source": [
    "len(movie_reviews.fileids())"
   ],
   "metadata": {
    "collapsed": false,
    "ExecuteTime": {
     "start_time": "2023-10-10T04:58:09.885299Z"
    }
   },
   "id": "77916080019b1884"
  },
  {
   "cell_type": "code",
   "execution_count": 132,
   "outputs": [],
   "source": [
    "encoded_labels = [label_encoder[label] for label in y]"
   ],
   "metadata": {
    "collapsed": false,
    "ExecuteTime": {
     "end_time": "2023-10-10T05:57:35.010955Z",
     "start_time": "2023-10-10T05:57:34.993992Z"
    }
   },
   "id": "5fc38e96021268f5"
  },
  {
   "cell_type": "code",
   "execution_count": null,
   "outputs": [],
   "source": [
    "encoded_labels"
   ],
   "metadata": {
    "collapsed": false,
    "ExecuteTime": {
     "start_time": "2023-10-10T04:58:09.887394Z"
    }
   },
   "id": "6f9d043610a56312"
  },
  {
   "cell_type": "code",
   "execution_count": null,
   "outputs": [],
   "source": [
    "to_categorical(encoded_labels)"
   ],
   "metadata": {
    "collapsed": false,
    "ExecuteTime": {
     "start_time": "2023-10-10T04:58:09.888565Z"
    }
   },
   "id": "8f0aedc6d3418a03"
  },
  {
   "cell_type": "code",
   "execution_count": null,
   "outputs": [],
   "source": [
    "tokenizer.word_index"
   ],
   "metadata": {
    "collapsed": false,
    "ExecuteTime": {
     "start_time": "2023-10-10T04:58:09.889557Z"
    }
   },
   "id": "4030b91d66b399b2"
  },
  {
   "cell_type": "code",
   "execution_count": 133,
   "outputs": [],
   "source": [
    "a = (\"\".join(documents[1][0]))"
   ],
   "metadata": {
    "collapsed": false,
    "ExecuteTime": {
     "end_time": "2023-10-10T05:58:01.813918Z",
     "start_time": "2023-10-10T05:58:01.785434Z"
    }
   },
   "id": "46bd2745c0ecb6c4"
  },
  {
   "cell_type": "code",
   "execution_count": null,
   "outputs": [],
   "source": [],
   "metadata": {
    "collapsed": false,
    "ExecuteTime": {
     "start_time": "2023-10-10T04:58:09.891456Z"
    }
   },
   "id": "8958e367954d1d03"
  }
 ],
 "metadata": {
  "kernelspec": {
   "display_name": "Python 3",
   "language": "python",
   "name": "python3"
  },
  "language_info": {
   "codemirror_mode": {
    "name": "ipython",
    "version": 2
   },
   "file_extension": ".py",
   "mimetype": "text/x-python",
   "name": "python",
   "nbconvert_exporter": "python",
   "pygments_lexer": "ipython2",
   "version": "2.7.6"
  }
 },
 "nbformat": 4,
 "nbformat_minor": 5
}
